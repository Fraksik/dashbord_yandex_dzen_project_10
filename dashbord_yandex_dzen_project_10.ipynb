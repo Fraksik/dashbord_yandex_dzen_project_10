{
 "cells": [
  {
   "cell_type": "markdown",
   "id": "6cd39c36",
   "metadata": {},
   "source": [
    "# Дашборд для Яндекс.Дзен"
   ]
  },
  {
   "cell_type": "markdown",
   "id": "343ffea1",
   "metadata": {},
   "source": [
    "## Описание проекта\n",
    "Основная цель проекта заключается в построении дашборда для анализ взаимодействия пользователей с карточками статей. Проект делается на основе запроса менеджеров по анализу контента, которые так же являются потенциальными пользователями дашборда. Пользователи дашборда планируют обращаться к нему не реже, чем раз в неделю. Проект ставит своей целью ответ на вопросы:\n",
    "- Сколько взаимодействий пользователей с карточками происходит в системе с разбивкой по темам карточек?\n",
    "- Как много карточек генерируют источники с разными темами?\n",
    "- Как соотносятся темы карточек и темы источников?\n",
    "  \n",
    "Пользователи разбиты на разные возрастные группы.\n",
    "\n",
    "---\n",
    "\n",
    "Планируемый состав данных для дашборда:\n",
    "- История событий по темам карточек (два графика - абсолютные числа и процентное соотношение);\n",
    "- Разбивка событий по темам источников;\n",
    "- Таблица соответствия тем источников темам карточек;\n",
    "  \n",
    "Данные будут группироваться по параметрам:\n",
    "- Дата и время;\n",
    "- Тема карточки;\n",
    "- Тема источника;\n",
    "- Возрастная группа;\n",
    "  \n",
    "Характер данных:\n",
    "- История событий по темам карточек — абсолютные величины с разбивкой по минутам;\n",
    "- Разбивка событий по темам источников — относительные величины (% событий);\n",
    "- Соответствия тем источников темам карточек - абсолютные величины;\n",
    "  \n",
    "Все графики имеют одинаковую важность.  \n",
    "  \n",
    "Частота обновления данных: один раз в сутки, в полночь по UTC;\n",
    "\n",
    "---  \n",
    "Дополнительная информация, по способам взаимодействия пользователей с системой:\n",
    "- Карточка отображена для пользователя (show);\n",
    "- Пользователь кликнул на карточку (click);\n",
    "- Пользователь просмотрел статью карточки (view)."
   ]
  },
  {
   "cell_type": "markdown",
   "id": "23f3d136",
   "metadata": {},
   "source": [
    "## Подготовка данных"
   ]
  },
  {
   "cell_type": "markdown",
   "id": "1d7c0f61",
   "metadata": {},
   "source": [
    "Убираем предупреждения."
   ]
  },
  {
   "cell_type": "code",
   "execution_count": 1,
   "id": "d0514f60",
   "metadata": {},
   "outputs": [],
   "source": [
    "import warnings\n",
    "warnings.filterwarnings('ignore')"
   ]
  },
  {
   "cell_type": "markdown",
   "id": "5c55afef",
   "metadata": {},
   "source": [
    "Подгружаем библиотеки."
   ]
  },
  {
   "cell_type": "code",
   "execution_count": 2,
   "id": "6d62df4d",
   "metadata": {},
   "outputs": [],
   "source": [
    "import pandas as pd\n",
    "from sqlalchemy import create_engine"
   ]
  },
  {
   "cell_type": "markdown",
   "id": "68aec966",
   "metadata": {},
   "source": [
    "Выгружаем таблицу из базы данных."
   ]
  },
  {
   "cell_type": "code",
   "execution_count": 7,
   "id": "a541be58",
   "metadata": {},
   "outputs": [
    {
     "name": "stdout",
     "output_type": "stream",
     "text": [
      "   record_id item_topic source_topic age_segment                  dt  visits\n",
      "0    1040597     Деньги         Авто       18-25 2019-09-24 18:32:00       3\n",
      "1    1040598     Деньги         Авто       18-25 2019-09-24 18:35:00       1\n",
      "2    1040599     Деньги         Авто       18-25 2019-09-24 18:54:00       4\n",
      "3    1040600     Деньги         Авто       18-25 2019-09-24 18:55:00      17\n",
      "4    1040601     Деньги         Авто       18-25 2019-09-24 18:56:00      27\n"
     ]
    }
   ],
   "source": [
    "#!/usr/bin/python\n",
    "# -*- coding: utf-8 -*-\n",
    "\n",
    "db_config = {'user': 'praktikum_student', # имя пользователя\n",
    "            'pwd': 'Sdf4$2;d-d30pp', # пароль\n",
    "            'host': 'rc1b-wcoijxj3yxfsf3fs.mdb.yandexcloud.net',\n",
    "            'port': 6432, # порт подключения\n",
    "            'db': 'data-analyst-zen-project-db'} # название базы данных\n",
    "\n",
    "connection_string = 'postgresql://{}:{}@{}:{}/{}'.format(db_config['user'],\n",
    "                                                db_config['pwd'],\n",
    "                                                db_config['host'],\n",
    "                                                db_config['port'],\n",
    "                                                db_config['db'])\n",
    "\n",
    "engine = create_engine(connection_string) \n",
    "\n",
    "\n",
    "query = ''' SELECT *\n",
    "            FROM dash_visits\n",
    "        '''\n",
    "\n",
    "data_raw = pd.io.sql.read_sql(query, con = engine) \n",
    "\n",
    "print(data_raw.head(5))"
   ]
  },
  {
   "cell_type": "markdown",
   "id": "6509662a",
   "metadata": {},
   "source": [
    "Записываем таблицу в файл."
   ]
  },
  {
   "cell_type": "code",
   "execution_count": 9,
   "id": "8b8e9a1d",
   "metadata": {},
   "outputs": [],
   "source": [
    "data_raw.to_csv(\"~/Desktop/dash_visits.csv\")"
   ]
  },
  {
   "cell_type": "markdown",
   "id": "d72b4589",
   "metadata": {},
   "source": [
    "## Ссылка в Tableau Public"
   ]
  },
  {
   "cell_type": "markdown",
   "id": "16cb30b8",
   "metadata": {},
   "source": [
    "https://public.tableau.com/app/profile/konstantin3016/viz/Project_Yandex_Zen_16489117006880/DashboardYandex_Zen?publish=yes"
   ]
  },
  {
   "cell_type": "markdown",
   "id": "7b23ab1a",
   "metadata": {},
   "source": [
    "## Выводы\n",
    "\n",
    "- Cколько взаимодействий пользователей с карточками происходит в системе с разбивкой по темам карточек?\n",
    "  \n",
    "Наиболее популярными топиками являются:\n",
    "1. Наука - 20913 обращений\n",
    "2. Отношения - 19848 обращений\n",
    "3. Общество - 18815 обращений\n",
    "  \n",
    "Наиболее актвиные пользователи в возрасте от 18 до 25 лет. Чем старше пользователи, тем они менее активны.\n",
    "  \n",
    "- Как много карточек генерируют источники с разными темами?\n",
    "  \n",
    "Источники генерируют от 0 до 42940 карточек с разбивкой по темам. \n",
    "\n",
    "- Как соотносятся темы карточек и темы источников?\n",
    "  \n",
    "Больше всего генерирует источник \"Путешествия\" карточки по теме \"Рассказы\"."
   ]
  },
  {
   "cell_type": "code",
   "execution_count": null,
   "id": "318cda14",
   "metadata": {},
   "outputs": [],
   "source": []
  }
 ],
 "metadata": {
  "kernelspec": {
   "display_name": "Python 3 (ipykernel)",
   "language": "python",
   "name": "python3"
  },
  "language_info": {
   "codemirror_mode": {
    "name": "ipython",
    "version": 3
   },
   "file_extension": ".py",
   "mimetype": "text/x-python",
   "name": "python",
   "nbconvert_exporter": "python",
   "pygments_lexer": "ipython3",
   "version": "3.9.7"
  },
  "toc": {
   "base_numbering": 1,
   "nav_menu": {},
   "number_sections": false,
   "sideBar": true,
   "skip_h1_title": false,
   "title_cell": "Table of Contents",
   "title_sidebar": "Contents",
   "toc_cell": false,
   "toc_position": {},
   "toc_section_display": true,
   "toc_window_display": true
  }
 },
 "nbformat": 4,
 "nbformat_minor": 5
}
